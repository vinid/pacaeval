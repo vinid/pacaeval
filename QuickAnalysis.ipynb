{
 "cells": [
  {
   "cell_type": "code",
   "execution_count": 1,
   "id": "01594ec1-433d-4501-b777-75dc75373978",
   "metadata": {},
   "outputs": [],
   "source": [
    "import pandas as pd\n",
    "\n",
    "data = pd.read_csv(\"J8OO0HGU5TG49EC4JW.csv\", header=None)"
   ]
  },
  {
   "cell_type": "code",
   "execution_count": 3,
   "id": "23486f8e-d12c-4ed9-af1a-50cd07222212",
   "metadata": {},
   "outputs": [],
   "source": [
    "data.columns = [\"Q\", \"m1\", \"a1\", \"m2\", \"a2\", \"w\", \"t\"]"
   ]
  },
  {
   "cell_type": "code",
   "execution_count": 7,
   "id": "959b3e42-d406-4748-8849-e1128b2c5acd",
   "metadata": {},
   "outputs": [
    {
     "data": {
      "text/plain": [
       "Counter({'BGOOD': 39, 'redpaca2500': 6, 'BBAD': 3, 'alpaca': 2})"
      ]
     },
     "execution_count": 7,
     "metadata": {},
     "output_type": "execute_result"
    }
   ],
   "source": [
    "from collections import Counter\n",
    "Counter(data[data[\"t\"] == \"I-Alpaca\"][\"w\"])"
   ]
  },
  {
   "cell_type": "code",
   "execution_count": 8,
   "id": "8ca1c9fc-9d56-4347-a84b-222ccb0644e3",
   "metadata": {},
   "outputs": [
    {
     "data": {
      "text/plain": [
       "Counter({'redpaca2500': 33, 'BBAD': 14, 'BGOOD': 3})"
      ]
     },
     "execution_count": 8,
     "metadata": {},
     "output_type": "execute_result"
    }
   ],
   "source": [
    "Counter(data[data[\"t\"] != \"I-Alpaca\"][\"w\"])"
   ]
  },
  {
   "cell_type": "code",
   "execution_count": null,
   "id": "bd5babf7-454b-498b-bff3-64982d0c8708",
   "metadata": {},
   "outputs": [],
   "source": []
  }
 ],
 "metadata": {
  "kernelspec": {
   "display_name": "Python 3 (ipykernel)",
   "language": "python",
   "name": "python3"
  },
  "language_info": {
   "codemirror_mode": {
    "name": "ipython",
    "version": 3
   },
   "file_extension": ".py",
   "mimetype": "text/x-python",
   "name": "python",
   "nbconvert_exporter": "python",
   "pygments_lexer": "ipython3",
   "version": "3.10.6"
  }
 },
 "nbformat": 4,
 "nbformat_minor": 5
}
